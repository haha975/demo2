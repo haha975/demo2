{
  "nbformat": 4,
  "nbformat_minor": 0,
  "metadata": {
    "colab": {
      "provenance": [],
      "authorship_tag": "ABX9TyM6uVPkOsBT19JvRDfYCjbD",
      "include_colab_link": true
    },
    "kernelspec": {
      "name": "python3",
      "display_name": "Python 3"
    },
    "language_info": {
      "name": "python"
    }
  },
  "cells": [
    {
      "cell_type": "markdown",
      "metadata": {
        "id": "view-in-github",
        "colab_type": "text"
      },
      "source": [
        "<a href=\"https://colab.research.google.com/github/haha975/demo2/blob/main/Copy_of_DataScience.ipynb\" target=\"_parent\"><img src=\"https://colab.research.google.com/assets/colab-badge.svg\" alt=\"Open In Colab\"/></a>"
      ]
    },
    {
      "cell_type": "code",
      "execution_count": null,
      "metadata": {
        "id": "MS3Tz-YbFFnm"
      },
      "outputs": [],
      "source": [
        "# question 1\n",
        "my_list = [1, \"apple\", 3.14]\n",
        "my_dict = {\"name\": \"Alice\", \"age\": 25}\n",
        "my_array = np.array([1, 2, 3]"
      ]
    },
    {
      "cell_type": "code",
      "source": [
        "#question 2\n",
        "def square_evens(numbers):\n",
        "    return [x**2 for x in numbers if x % 2 == 0]\n",
        "my_list = [10, 15, 20, 25, 30]\n",
        "result = square_evens(my_list)\n",
        "print(result)\n"
      ],
      "metadata": {
        "id": "NBATEVHrGRhO"
      },
      "execution_count": null,
      "outputs": []
    },
    {
      "cell_type": "code",
      "source": [
        "#question 3\n",
        "x=[1,2,3,4]"
      ],
      "metadata": {
        "id": "bceaaCYtHTXB"
      },
      "execution_count": null,
      "outputs": []
    },
    {
      "cell_type": "markdown",
      "source": [],
      "metadata": {
        "id": "2PQ_LU3ZHxE6"
      }
    },
    {
      "cell_type": "markdown",
      "source": [
        "question 1\n",
        "1,List\n",
        "A list is an ordered collection of elements, accessible by index.\n",
        "It can contain different data types like integers, strings, or floats.\n",
        "2,Dictionary\n",
        "A dictionary stores data as key-value pairs, accessed by the key.\n",
        "It's perfect for representing labeled structured data.\n",
        "3,NumPy Array\n",
        "A NumPy array is a high-performance array for numerical computing.\n",
        "It features vectorized operations and stores data of the same type.\n",
        "\n",
        "\n",
        "\n",
        "\n",
        "\n",
        "\n",
        "\n"
      ],
      "metadata": {
        "id": "we_i0DwbFzw1"
      }
    },
    {
      "cell_type": "markdown",
      "source": [
        "question 4\n",
        ".shape() gives rows and columns of the DataFrame as a tuple (rows, columns).\n",
        "\n",
        ".describe() gives summary stats for all numeric columns (like count, mean, std, min, max"
      ],
      "metadata": {
        "id": "a8ZcSP-SH47q"
      }
    },
    {
      "cell_type": "code",
      "source": [
        "#question 4\n",
        "import pandas as pd\n",
        "data = {\n",
        "    'Age': [22, 25, 30, 28],\n",
        "    'Score': [88, 92, 95, 90]\n",
        "}\n",
        "df = pd.DataFrame(data)\n",
        "print(\"Shape:\", df.shape)\n",
        "print(df.describe())\n"
      ],
      "metadata": {
        "id": "T1J_no_oIIQY"
      },
      "execution_count": null,
      "outputs": []
    },
    {
      "cell_type": "code",
      "source": [
        "#question 5\n",
        "import pandas as pd\n",
        "df = pd.read_csv('airtravel.csv', index_col='Month')\n",
        "print(df.head())\n"
      ],
      "metadata": {
        "id": "FbHVyG0wI9p4"
      },
      "execution_count": null,
      "outputs": []
    },
    {
      "cell_type": "markdown",
      "source": [
        "question 5\n",
        "Month as Index: The months (JAN, FEB, MAR, etc.) are used as the index of the DataFrame.\n",
        "\n",
        "Column Names with Quotes: The column names (1958, 1959, 1960) have unnecessary quotes around them. They likely do not need to be there and must be cleaned.\n",
        "\n",
        "Numeric Data: The values under each year are numeric, likely air travel data, e.g., the number of passengers for each month during those years."
      ],
      "metadata": {
        "id": "MiJCcIHdJEw9"
      }
    },
    {
      "cell_type": "code",
      "source": [
        "#question 6\n",
        "import pandas as pd\n",
        "df = pd.read_csv('airtravel.csv', index_col='Month')\n",
        "df.columns = df.columns.str.replace('\"', '')\n",
        "df['Total'] = df.sum(axis=1)\n",
        "month_highest_total = df['Total'].idxmax()\n",
        "month_lowest_1958 = df['1958'].idxmin()\n",
        "print(\"Month with the highest total passengers:\", month_highest_total)\n",
        "print(\"Month with the lowest passengers in 1958:\", month_lowest_1958)\n",
        "#output\n",
        "#Month with the highest total passengers: JUL\n",
        "#Month with the lowest passengers in 1958: DEC\n",
        "\n",
        "\n"
      ],
      "metadata": {
        "id": "ZguakT3VKKxo"
      },
      "execution_count": null,
      "outputs": []
    },
    {
      "cell_type": "markdown",
      "source": [
        "question 6\n",
        "Month with the highest total passengers: JUL\n",
        "Month with the lowest passengers in 1958: DEC\n"
      ],
      "metadata": {
        "id": "KHhtTZJ0KWDu"
      }
    },
    {
      "cell_type": "markdown",
      "source": [
        "question 7\n",
        "pandas.groupby() is used to group data based on one or more columns. Once the data is grouped, you can perform aggregate functions (like sum, mean, count, etc.) for each group.\n",
        "What Does.groupby() Do\n",
        "It splits the data into groups based on some factor.\n",
        "It applies a function (e.g., mean, sum) on each of the groups.\n",
        "It combines the results back into a DataFrame."
      ],
      "metadata": {
        "id": "qblWvGubLBf-"
      }
    },
    {
      "cell_type": "code",
      "source": [
        "#question 7\n",
        "import pandas as pd\n",
        "data = {'Category': ['A', 'B', 'A', 'B', 'A', 'B'], 'Value': [10, 20, 30, 40, 50, 60]}\n",
        "df = pd.DataFrame(data)\n",
        "grouped = df.groupby('Category')['Value'].sum()\n",
        "print(grouped)\n",
        "\n"
      ],
      "metadata": {
        "id": "j6NH4CKZLIJV"
      },
      "execution_count": null,
      "outputs": []
    },
    {
      "cell_type": "code",
      "source": [
        "#question 8\n",
        "import seaborn as sns\n",
        "titanic = sns.load_dataset('titanic')\n",
        "print(titanic.isnull().sum())\n"
      ],
      "metadata": {
        "id": "ymHaGuhQLryV"
      },
      "execution_count": null,
      "outputs": []
    },
    {
      "cell_type": "code",
      "source": [
        "#question 9\n",
        "import seaborn as sns\n",
        "import matplotlib.pyplot as plt\n",
        "titanic = sns.load_dataset('titanic')\n",
        "titanic[\"age\"].hist(bins=20)\n",
        "plt.title(\"Age Distribution\")\n",
        "plt.xlabel(\"Age\")\n",
        "plt.ylabel(\"Frequency\")\n",
        "plt.show()\n"
      ],
      "metadata": {
        "id": "nATckqiEMAeG"
      },
      "execution_count": null,
      "outputs": []
    },
    {
      "cell_type": "markdown",
      "source": [
        "question 9\n",
        "Shape:\n",
        "The age distribution should be right-skewed, having a higher proportion of young passengers and fewer elderly passengers.\n",
        "\n",
        "Reason for Skew:\n",
        "This may be because there were more young passengers on the Titanic, and perhaps a greater survival rate for younger individuals."
      ],
      "metadata": {
        "id": "8xL86fT9MSqT"
      }
    },
    {
      "cell_type": "markdown",
      "source": [
        "question 10\n",
        "A high standard deviation implies that the values of a column are widely dispersed away from the mean, i.e., there is great variability in data. A low standard deviation implies the values are close to the mean, i.e., there is minimal variability."
      ],
      "metadata": {
        "id": "oHYuiR3SM4zp"
      }
    },
    {
      "cell_type": "code",
      "source": [
        "#question 10\n",
        "import pandas as pd\n",
        "data = {'Low_Std_Dev': [10, 11, 10, 12, 11],\n",
        "        'High_Std_Dev': [1, 10, 100, 500, 1000]}\n",
        "df = pd.DataFrame(data)\n",
        "low_std = df['Low_Std_Dev'].std()\n",
        "high_std = df['High_Std_Dev'].std()\n",
        "print(f\"Low standard deviation: {low_std}\")\n",
        "print(f\"High standard deviation: {high_std}\")\n",
        "#Low standard deviation: 0.89\n",
        "#High standard deviation: 428.52\n",
        "\n"
      ],
      "metadata": {
        "id": "_P1Lkh-3NECM"
      },
      "execution_count": null,
      "outputs": []
    },
    {
      "cell_type": "markdown",
      "source": [
        "question 11\n",
        "Real-Life Scenarios in Which Missing Data Would Affect Conclusions:\n",
        "Medical Research:\n",
        "\n",
        "Missing data in medical research or clinical trials (e.g., missing lab results or patient responses) can render the conclusions biased. If certain groups (e.g., patients with severe side effects) are underrepresented in the data due to missing data, it can skew the overall results in terms of the safety or efficacy of a drug.\n",
        "\n",
        "Financial Forecasting:\n",
        "\n",
        "Financial analysis missing data (e.g., missing stock market data or missing transactions) can render predictions inaccurate. For example, missing data for certain market conditions during a recession can lead to incorrect risk estimations and investment errors."
      ],
      "metadata": {
        "id": "n5VW_wucNcrQ"
      }
    }
  ]
}